{
 "cells": [
  {
   "cell_type": "markdown",
   "metadata": {},
   "source": [
    "# Let's do math!\n",
    "We're going to try out some simple math equations in Jupyter notebook. "
   ]
  },
  {
   "cell_type": "markdown",
   "metadata": {},
   "source": [
    "## Opening Jupyter Notebook\n",
    "This tutorial assumes that you already have python, ipython and Jupyter Notebook installed. \n",
    "\n",
    "If you haven't already, clone the following GitHub repo to your desktop so that you can download all the notebooks to your computer. \n",
    "\n",
    "https://github.com/summerela/python_bootcamp2018.git\n",
    "\n",
    "### Mac: \n",
    "1. Open your terminal (space bar + command, then search for terminal)\n",
    "2. On the command line, type \"jupyter notebook\"\n",
    "3. Jupyter Notebook will open in your browser window\n",
    "\n",
    "### Windows\n",
    "1. Open Powershell or your command prompt (windows button + r, then type cmd)\n",
    "2. Type \"jupyter notebook\"\n",
    "3. Jupyter Notebook will open from in a browser window\n",
    "\n",
    "On windows, if you installed python via Anaconda, you may also have some program options under Anaconda to open Jupyter Notebook that way.\n",
    "\n",
    "## Using Jupyter Notebook\n",
    "To run a cell, type something in that cell then hit shift + enter. Try this out in the cell below. "
   ]
  },
  {
   "cell_type": "code",
   "execution_count": 2,
   "metadata": {},
   "outputs": [
    {
     "data": {
      "text/plain": [
       "'Hello World'"
      ]
     },
     "execution_count": 2,
     "metadata": {},
     "output_type": "execute_result"
    }
   ],
   "source": [
    "\"Hello World\""
   ]
  },
  {
   "cell_type": "code",
   "execution_count": 3,
   "metadata": {},
   "outputs": [
    {
     "data": {
      "text/plain": [
       "23400"
      ]
     },
     "execution_count": 3,
     "metadata": {},
     "output_type": "execute_result"
    }
   ],
   "source": [
    "100 * 234"
   ]
  },
  {
   "cell_type": "code",
   "execution_count": 4,
   "metadata": {},
   "outputs": [
    {
     "data": {
      "text/plain": [
       "256"
      ]
     },
     "execution_count": 4,
     "metadata": {},
     "output_type": "execute_result"
    }
   ],
   "source": [
    "2**8"
   ]
  },
  {
   "cell_type": "markdown",
   "metadata": {},
   "source": [
    "## Now let's do math!\n",
    "In the cell below, calculate 14 divided by 3. "
   ]
  },
  {
   "cell_type": "code",
   "execution_count": null,
   "metadata": {},
   "outputs": [],
   "source": []
  },
  {
   "cell_type": "markdown",
   "metadata": {},
   "source": [
    "Assign the output of 12 plus 27 to a variable called \"my_var\". "
   ]
  },
  {
   "cell_type": "code",
   "execution_count": null,
   "metadata": {},
   "outputs": [],
   "source": []
  },
  {
   "cell_type": "markdown",
   "metadata": {},
   "source": [
    "Muliply my_var by two. "
   ]
  },
  {
   "cell_type": "code",
   "execution_count": null,
   "metadata": {},
   "outputs": [],
   "source": []
  },
  {
   "cell_type": "markdown",
   "metadata": {},
   "source": [
    "Create an equation to determine if 15 is odd or even. "
   ]
  },
  {
   "cell_type": "code",
   "execution_count": null,
   "metadata": {},
   "outputs": [],
   "source": []
  },
  {
   "cell_type": "markdown",
   "metadata": {},
   "source": [
    "Create a statement to asses if Tim is greater than Julie. Why does python answer the way that it does? "
   ]
  },
  {
   "cell_type": "code",
   "execution_count": null,
   "metadata": {},
   "outputs": [],
   "source": []
  }
 ],
 "metadata": {
  "kernelspec": {
   "display_name": "Python 3",
   "language": "python",
   "name": "python3"
  },
  "language_info": {
   "codemirror_mode": {
    "name": "ipython",
    "version": 3
   },
   "file_extension": ".py",
   "mimetype": "text/x-python",
   "name": "python",
   "nbconvert_exporter": "python",
   "pygments_lexer": "ipython3",
   "version": "3.6.5"
  }
 },
 "nbformat": 4,
 "nbformat_minor": 2
}
